{
 "cells": [
  {
   "cell_type": "markdown",
   "metadata": {},
   "source": [
    "https://docs.conda.io/projects/conda/en/latest/commands/create.html\n",
    "\n",
    "https://docs.conda.io/projects/conda/en/4.6.1/user-guide/tasks/manage-environments.html"
   ]
  },
  {
   "cell_type": "markdown",
   "metadata": {
    "colab_type": "text",
    "id": "EY4nE-u2yDFJ"
   },
   "source": [
    "# Nessa aula vamos discutir a base dos comandos do python\n",
    "\n",
    "1 - Vamos começar trabalhando manipulando algumas variáveis"
   ]
  },
  {
   "cell_type": "code",
   "execution_count": 1,
   "metadata": {
    "colab": {},
    "colab_type": "code",
    "id": "x6EKEfuYyDFK"
   },
   "outputs": [],
   "source": [
    "# podemos definir uma variável dando um nome para ela, da seguinte maneira\n",
    "age = 30"
   ]
  },
  {
   "cell_type": "code",
   "execution_count": 2,
   "metadata": {
    "colab": {},
    "colab_type": "code",
    "id": "OG63eI7tyDFO"
   },
   "outputs": [
    {
     "name": "stdout",
     "output_type": "stream",
     "text": [
      "30\n"
     ]
    }
   ],
   "source": [
    "# podemos imprimir o valor da variável, como?\n",
    "print(age)\n"
   ]
  },
  {
   "cell_type": "code",
   "execution_count": 3,
   "metadata": {
    "colab": {},
    "colab_type": "code",
    "id": "H6fICTDCyDFQ"
   },
   "outputs": [
    {
     "name": "stdout",
     "output_type": "stream",
     "text": [
      "30\n"
     ]
    }
   ],
   "source": [
    "# podemos também imprimir a variável sem dar nome a ela\n",
    "print(30)"
   ]
  },
  {
   "cell_type": "code",
   "execution_count": 4,
   "metadata": {
    "colab": {},
    "colab_type": "code",
    "id": "vcCttoPnyDFT"
   },
   "outputs": [
    {
     "name": "stdout",
     "output_type": "stream",
     "text": [
      "30\n",
      "40\n"
     ]
    }
   ],
   "source": [
    "#Porém quando temos uma variável com nome, temos a grande vantagem de poder mudar seu valor:\n",
    "age = 30\n",
    "print(age)\n",
    "age = 40\n",
    "print(age)"
   ]
  },
  {
   "cell_type": "markdown",
   "metadata": {
    "colab_type": "text",
    "id": "iTjYInYwyDFV"
   },
   "source": [
    "### Boas práticas em relação ao definirmos nomes de variáveis "
   ]
  },
  {
   "cell_type": "code",
   "execution_count": 5,
   "metadata": {
    "colab": {},
    "colab_type": "code",
    "id": "7C1eTQqByDFW"
   },
   "outputs": [],
   "source": [
    "#nomes compostos de variáveis são separados por _ , esse padrão é conhecido como: snake_case in Python\n",
    "#nomes não podem começar com números, porém podem conter números\n",
    "#se duas variáveis forém mudar de valores sempre usar letras minusculas \n",
    "\n",
    "friend_age = 23\n",
    "countries_visited = 90"
   ]
  },
  {
   "cell_type": "code",
   "execution_count": 6,
   "metadata": {
    "colab": {},
    "colab_type": "code",
    "id": "tVvZjitEyDFY"
   },
   "outputs": [],
   "source": [
    "# Se sua variável tiver um valor fixo escrever em letras maiusculas \n",
    "\n",
    "PI = 3.14159\n",
    "RADIANS_TO_DEGREES = 180 / PI"
   ]
  },
  {
   "cell_type": "markdown",
   "metadata": {
    "colab_type": "text",
    "id": "yph63zhiyDFa"
   },
   "source": [
    "### Vamos falar de números?"
   ]
  },
  {
   "cell_type": "code",
   "execution_count": 7,
   "metadata": {
    "colab": {},
    "colab_type": "code",
    "id": "lSTyhkDPyDFb"
   },
   "outputs": [],
   "source": [
    "#vamos ter dois tipos de número em python\n",
    "\n",
    "age = 35  # integer\n",
    "PI = 3.14159  # float"
   ]
  },
  {
   "cell_type": "code",
   "execution_count": 9,
   "metadata": {
    "colab": {},
    "colab_type": "code",
    "id": "k7IfTb9iyDFe"
   },
   "outputs": [
    {
     "data": {
      "text/plain": [
       "float"
      ]
     },
     "execution_count": 9,
     "metadata": {},
     "output_type": "execute_result"
    }
   ],
   "source": [
    "## adicionar o conceito de definição de variáveis \n",
    "type(PI)"
   ]
  },
  {
   "cell_type": "markdown",
   "metadata": {
    "colab_type": "text",
    "id": "W4lzPxnryDFg"
   },
   "source": [
    "### Operações Matemáticas"
   ]
  },
  {
   "cell_type": "code",
   "execution_count": 10,
   "metadata": {
    "colab": {},
    "colab_type": "code",
    "id": "HVZG8X0ryDFh"
   },
   "outputs": [
    {
     "name": "stdout",
     "output_type": "stream",
     "text": [
      "5.0\n"
     ]
    }
   ],
   "source": [
    "# Nada de especial acontece\n",
    "\n",
    "maths_operation = 1 + 3 * 4 / 2 - 2\n",
    "print(maths_operation)"
   ]
  },
  {
   "cell_type": "code",
   "execution_count": 11,
   "metadata": {},
   "outputs": [
    {
     "data": {
      "text/plain": [
       "2"
      ]
     },
     "execution_count": 11,
     "metadata": {},
     "output_type": "execute_result"
    }
   ],
   "source": [
    "int(4/2)"
   ]
  },
  {
   "cell_type": "markdown",
   "metadata": {
    "colab": {},
    "colab_type": "code",
    "id": "6S7wb_hLyDFj"
   },
   "source": [
    "#### se eu tenho apenas números inteiros porque o resultado foi um float?\n",
    "https://www.tutorialspoint.com/python/python_variable_types.htm"
   ]
  },
  {
   "cell_type": "code",
   "execution_count": null,
   "metadata": {
    "colab": {},
    "colab_type": "code",
    "id": "ejQ6fipPyDFm"
   },
   "outputs": [],
   "source": [
    "# resultado da divisão é sempre um float\n",
    "\n",
    "float_division = 12 / 3\n",
    "print(float_division)"
   ]
  },
  {
   "cell_type": "code",
   "execution_count": null,
   "metadata": {
    "colab": {},
    "colab_type": "code",
    "id": "limIaofEyDFp"
   },
   "outputs": [],
   "source": [
    "##E a multiplicação?\n",
    "##E se somarmos um inteiro com um float?"
   ]
  },
  {
   "cell_type": "code",
   "execution_count": 12,
   "metadata": {
    "colab": {},
    "colab_type": "code",
    "id": "gMM0SOzvyDFr"
   },
   "outputs": [
    {
     "name": "stdout",
     "output_type": "stream",
     "text": [
      "4\n"
     ]
    }
   ],
   "source": [
    "# pode pegar somente a parte inteira da divisão\n",
    "integer_division = 12 // 3  # não é um tipo de arredondamento\n",
    "print(integer_division)"
   ]
  },
  {
   "cell_type": "code",
   "execution_count": null,
   "metadata": {
    "colab": {},
    "colab_type": "code",
    "id": "rWIsSER1yDFt"
   },
   "outputs": [],
   "source": [
    "#alguém poderia explicar o camando a seguir?\n",
    "remainder = 12 % 5\n",
    "print(remainder)"
   ]
  },
  {
   "cell_type": "code",
   "execution_count": 13,
   "metadata": {
    "colab": {},
    "colab_type": "code",
    "id": "HJhwLt8ByDFv"
   },
   "outputs": [
    {
     "name": "stdout",
     "output_type": "stream",
     "text": [
      "1\n"
     ]
    }
   ],
   "source": [
    "x = 37\n",
    "remainder = x % 2\n",
    "print(remainder)"
   ]
  },
  {
   "cell_type": "code",
   "execution_count": null,
   "metadata": {
    "colab": {},
    "colab_type": "code",
    "id": "ddpSqIPKyDFx"
   },
   "outputs": [],
   "source": [
    "# Em quais situações esse tipo de comando nos ajuda?"
   ]
  },
  {
   "cell_type": "markdown",
   "metadata": {
    "colab_type": "text",
    "id": "8JEsbzTjyDFz"
   },
   "source": [
    "### Variáveis podem ser palavras? Frases?"
   ]
  },
  {
   "cell_type": "code",
   "execution_count": null,
   "metadata": {
    "colab": {},
    "colab_type": "code",
    "id": "wMsyMETeyDF0"
   },
   "outputs": [],
   "source": [
    "my_string = \"Hello, world!\"\n",
    "single_quote_string = 'Hello, world!'"
   ]
  },
  {
   "cell_type": "code",
   "execution_count": 14,
   "metadata": {
    "colab": {},
    "colab_type": "code",
    "id": "WX4-KiozyDF6"
   },
   "outputs": [
    {
     "name": "stdout",
     "output_type": "stream",
     "text": [
      "Hello World!\n",
      "H\n",
      "llo\n",
      "llo World!\n",
      "Hello World!Hello World!\n"
     ]
    }
   ],
   "source": [
    "str = 'Hello World!'\n",
    "\n",
    "print (str)          # imprimi a string completa\n",
    "print (str[0])       # imprimi o primeiro caracter da string\n",
    "print (str[2:5])     # imprimi do terceiro ao quinto caracter\n",
    "print (str[2:])      # imprimi os caracteres a partir do terceiro\n",
    "print (str * 2)      # imprimi a string duas vezes"
   ]
  },
  {
   "cell_type": "code",
   "execution_count": 15,
   "metadata": {
    "colab": {},
    "colab_type": "code",
    "id": "urmOYaCAyDF8"
   },
   "outputs": [],
   "source": [
    "string_with_quotes = \"Hello, it's me.\"\n",
    "another_with_quotes = 'He said \"You are amazing!\" yesterday.'"
   ]
  },
  {
   "cell_type": "code",
   "execution_count": 16,
   "metadata": {
    "colab": {},
    "colab_type": "code",
    "id": "NpJnb9uayDF-"
   },
   "outputs": [
    {
     "name": "stdout",
     "output_type": "stream",
     "text": [
      "Hello, world.\n",
      "\n",
      "My name is Jose. Welcome to my program.\n",
      "\n"
     ]
    }
   ],
   "source": [
    "multiline = \"\"\"Hello, world.\n",
    "\n",
    "My name is Jose. Welcome to my program.\n",
    "\"\"\"\n",
    "## Vocẽs podem imprimir para ver como fica?\n",
    "\n",
    "print(multiline)"
   ]
  },
  {
   "cell_type": "code",
   "execution_count": 18,
   "metadata": {
    "colab": {},
    "colab_type": "code",
    "id": "LBw8TCgKyDGA"
   },
   "outputs": [],
   "source": [
    "# como juntar palavras formar frases?\n",
    "# por que esse procedimento é tão importante? no trabalho do dia a dia\n",
    "name = \"Jose\"\n",
    "greeting = \"Hello, \" + name"
   ]
  },
  {
   "cell_type": "code",
   "execution_count": 19,
   "metadata": {},
   "outputs": [
    {
     "data": {
      "text/plain": [
       "'Hello, Jose'"
      ]
     },
     "execution_count": 19,
     "metadata": {},
     "output_type": "execute_result"
    }
   ],
   "source": [
    "greeting"
   ]
  },
  {
   "cell_type": "code",
   "execution_count": 20,
   "metadata": {
    "colab": {},
    "colab_type": "code",
    "id": "t2Rds950yDGD"
   },
   "outputs": [
    {
     "ename": "TypeError",
     "evalue": "'str' object is not callable",
     "output_type": "error",
     "traceback": [
      "\u001b[0;31m---------------------------------------------------------------------------\u001b[0m",
      "\u001b[0;31mTypeError\u001b[0m                                 Traceback (most recent call last)",
      "\u001b[0;32m<ipython-input-20-82ce2776686a>\u001b[0m in \u001b[0;36m<module>\u001b[0;34m\u001b[0m\n\u001b[1;32m      1\u001b[0m \u001b[0;31m# é possível juntar número com uma palavra?\u001b[0m\u001b[0;34m\u001b[0m\u001b[0;34m\u001b[0m\u001b[0;34m\u001b[0m\u001b[0m\n\u001b[0;32m----> 2\u001b[0;31m \u001b[0mage\u001b[0m \u001b[0;34m=\u001b[0m \u001b[0mstr\u001b[0m\u001b[0;34m(\u001b[0m\u001b[0;36m34\u001b[0m\u001b[0;34m)\u001b[0m\u001b[0;34m\u001b[0m\u001b[0;34m\u001b[0m\u001b[0m\n\u001b[0m\u001b[1;32m      3\u001b[0m \u001b[0mage\u001b[0m \u001b[0;34m=\u001b[0m \u001b[0;34m\"You are \"\u001b[0m \u001b[0;34m+\u001b[0m \u001b[0mage\u001b[0m\u001b[0;34m\u001b[0m\u001b[0;34m\u001b[0m\u001b[0m\n\u001b[1;32m      4\u001b[0m \u001b[0mprint\u001b[0m\u001b[0;34m(\u001b[0m\u001b[0mage\u001b[0m\u001b[0;34m)\u001b[0m\u001b[0;34m\u001b[0m\u001b[0;34m\u001b[0m\u001b[0m\n",
      "\u001b[0;31mTypeError\u001b[0m: 'str' object is not callable"
     ]
    }
   ],
   "source": [
    "# é possível juntar número com uma palavra? \n",
    "age = str(34)\n",
    "age = \"You are \" + age\n",
    "print(age)"
   ]
  },
  {
   "cell_type": "code",
   "execution_count": 21,
   "metadata": {
    "colab": {},
    "colab_type": "code",
    "id": "y_LmXgrtyDGF"
   },
   "outputs": [
    {
     "name": "stdout",
     "output_type": "stream",
     "text": [
      "I am 34\n"
     ]
    }
   ],
   "source": [
    "#sempre será necessário fazer a converter um número para string?\n",
    "age = 34\n",
    "another_greeting = f\"I am {age}\"\n",
    "print(another_greeting)"
   ]
  },
  {
   "cell_type": "code",
   "execution_count": null,
   "metadata": {
    "colab": {},
    "colab_type": "code",
    "id": "9Cy29YzHyDGI"
   },
   "outputs": [],
   "source": [
    "#tem alguma maneira diferente de fazer isso?\n",
    "age = 999\n",
    "another_greeting = \"I am {}\".format(age)\n",
    "print(another_greeting)"
   ]
  },
  {
   "cell_type": "code",
   "execution_count": null,
   "metadata": {
    "colab": {},
    "colab_type": "code",
    "id": "GH-ZGxByyDGK"
   },
   "outputs": [],
   "source": [
    "# atualizar o valor de age?\n",
    "age = 78\n",
    "print(another_greeting)"
   ]
  },
  {
   "cell_type": "code",
   "execution_count": null,
   "metadata": {
    "colab": {},
    "colab_type": "code",
    "id": "o5wJXCm9yDGM"
   },
   "outputs": [],
   "source": [
    "# Tem como solucionar esse problema?\n",
    "another_greeting = \"I am {age}\"\n",
    "final_greeting = another_greeting.format(age = 204)\n",
    "print(final_greeting)\n"
   ]
  },
  {
   "cell_type": "markdown",
   "metadata": {
    "colab_type": "text",
    "id": "CGTdH0HoyDGO"
   },
   "source": [
    "### Quem sabe um pouco de interação"
   ]
  },
  {
   "cell_type": "code",
   "execution_count": 22,
   "metadata": {
    "colab": {},
    "colab_type": "code",
    "id": "4I2l8-qsyDGO"
   },
   "outputs": [
    {
     "name": "stdout",
     "output_type": "stream",
     "text": [
      "Enter your name: teste\n",
      "Hello teste. My name is Elis.\n"
     ]
    }
   ],
   "source": [
    "my_name = \"Elis\"\n",
    "your_name = input(\"Enter your name: \")\n",
    "\n",
    "print(f\"Hello {your_name}. My name is {my_name}.\")"
   ]
  },
  {
   "cell_type": "code",
   "execution_count": 23,
   "metadata": {
    "colab": {},
    "colab_type": "code",
    "id": "a4TYcviSyDGR"
   },
   "outputs": [
    {
     "name": "stdout",
     "output_type": "stream",
     "text": [
      "Enter your age: 46\n",
      "You have lived for 552 months.\n"
     ]
    }
   ],
   "source": [
    "age = int(input(\"Enter your age: \"))\n",
    "print(f\"You have lived for {age * 12} months.\")"
   ]
  },
  {
   "cell_type": "code",
   "execution_count": null,
   "metadata": {
    "colab": {},
    "colab_type": "code",
    "id": "cwy0UKLcyDGS"
   },
   "outputs": [],
   "source": [
    "## Para brincar um pouco, calcule a quantidade de segundos aõ invés de meses"
   ]
  },
  {
   "cell_type": "markdown",
   "metadata": {
    "colab_type": "text",
    "id": "U0J4I_DqyDGU"
   },
   "source": [
    "### Já tivemos um primeiro contato com as variáveis, agora podemos fazer algumas comparações?"
   ]
  },
  {
   "cell_type": "code",
   "execution_count": 1,
   "metadata": {
    "colab": {},
    "colab_type": "code",
    "id": "zr7RXDZEyDGW"
   },
   "outputs": [],
   "source": [
    "## Vamos ver os sinais de comparação mais importantes\n",
    "\n",
    "# A == B  (vamos verificar se A é igual a B)\n",
    "# A > B (vamos verificar se A é maior que B)\n",
    "# A < B (vamos verificar se B é maior que A)\n",
    "# A >= B (vamos verificar se A é maior ou igual a B)\n",
    "# A != B (Vamos verificar se A é diferente de B)"
   ]
  },
  {
   "cell_type": "code",
   "execution_count": 2,
   "metadata": {
    "colab": {},
    "colab_type": "code",
    "id": "CaVaN6C6yDGY"
   },
   "outputs": [
    {
     "name": "stdout",
     "output_type": "stream",
     "text": [
      "Nomes diferentes\n"
     ]
    }
   ],
   "source": [
    "# o comparativo vale palavras também?\n",
    "# vamos comparar a variável my_name com a variável name \n",
    "name = \"EliS\"\n",
    "my_name = \"elis\"\n",
    "\n",
    "# vamos fazer um print condicional?\n",
    "if name == my_name:\n",
    "    print (name)\n",
    "if name != my_name:\n",
    "    print ('Nomes diferentes')"
   ]
  },
  {
   "cell_type": "markdown",
   "metadata": {
    "colab_type": "text",
    "id": "YV-Jkc3yyDGa"
   },
   "source": [
    "### E se for necessário utilizar multiplas condições?"
   ]
  },
  {
   "cell_type": "code",
   "execution_count": 4,
   "metadata": {
    "colab": {},
    "colab_type": "code",
    "id": "CgSwXLAHyDGa"
   },
   "outputs": [],
   "source": [
    "name = \"EliS\"\n",
    "name_2 = \"Elis\"\n",
    "name_3 = \"ElIs\"\n",
    "my_name = \"elis\"\n",
    "\n",
    "# or = a ação será executada se alguma condição for satisfeita \n",
    "# and = a ação será executada se todas condições forem satisfeitas \n",
    "\n",
    "# vamos fazer um print condicional?\n",
    "if name == my_name or name_3 == my_name or name_2 == my_name:\n",
    "    print (name)"
   ]
  },
  {
   "cell_type": "code",
   "execution_count": 5,
   "metadata": {
    "colab": {},
    "colab_type": "code",
    "id": "DVq4LrwnyDGc"
   },
   "outputs": [],
   "source": [
    "# vamos fazer um print condicional?\n",
    "if name == my_name and name_3 == my_name and name_2 == my_name:\n",
    "    print (name)"
   ]
  },
  {
   "cell_type": "markdown",
   "metadata": {
    "colab_type": "text",
    "id": "LgmuIhSQyDGe"
   },
   "source": [
    "### E se em uma aplicação for necessário ter 1000 nomes, vamos ter que definir 1000 variáveis? "
   ]
  },
  {
   "cell_type": "code",
   "execution_count": 6,
   "metadata": {
    "colab": {},
    "colab_type": "code",
    "id": "aR_idxDxyDGe"
   },
   "outputs": [],
   "source": [
    "# qual a melhor maneira?\n",
    "\n",
    "#maneira 1:\n",
    "friend1 = \"Rolf\"\n",
    "friend2 = \"Bob\"\n",
    "friend3 = \"Anne\"\n",
    "\n",
    "#maneira 2\n",
    "friend = [\"Rolf\", \"Anne\", \"Bob\"]"
   ]
  },
  {
   "cell_type": "code",
   "execution_count": 7,
   "metadata": {
    "colab": {},
    "colab_type": "code",
    "id": "PMi51Hl9yDGg"
   },
   "outputs": [
    {
     "name": "stdout",
     "output_type": "stream",
     "text": [
      "Rolf\n"
     ]
    }
   ],
   "source": [
    "#imprimir elementos de uma lista\n",
    "# o primeiro elemento da lista é localizado pelo index 0, index = localizador\n",
    "print (friend[0])"
   ]
  },
  {
   "cell_type": "code",
   "execution_count": 8,
   "metadata": {
    "colab": {},
    "colab_type": "code",
    "id": "USV_WEp4yDGi"
   },
   "outputs": [
    {
     "data": {
      "text/plain": [
       "3"
      ]
     },
     "execution_count": 8,
     "metadata": {},
     "output_type": "execute_result"
    }
   ],
   "source": [
    "#comprimento de uma lista\n",
    "len(friend)"
   ]
  },
  {
   "cell_type": "code",
   "execution_count": 9,
   "metadata": {
    "colab": {},
    "colab_type": "code",
    "id": "eXi2cS5QyDGk"
   },
   "outputs": [
    {
     "data": {
      "text/plain": [
       "'Rolf'"
      ]
     },
     "execution_count": 9,
     "metadata": {},
     "output_type": "execute_result"
    }
   ],
   "source": [
    "#valor máximo contido em uma lista\n",
    "max(friend)"
   ]
  },
  {
   "cell_type": "code",
   "execution_count": 10,
   "metadata": {
    "colab": {},
    "colab_type": "code",
    "id": "woBiyk3-yDGm"
   },
   "outputs": [
    {
     "data": {
      "text/plain": [
       "'Anne'"
      ]
     },
     "execution_count": 10,
     "metadata": {},
     "output_type": "execute_result"
    }
   ],
   "source": [
    "#valor minimo contido em uma lista\n",
    "min (friend)"
   ]
  },
  {
   "cell_type": "code",
   "execution_count": 11,
   "metadata": {
    "colab": {},
    "colab_type": "code",
    "id": "cP54Dm8NyDGo"
   },
   "outputs": [
    {
     "name": "stdout",
     "output_type": "stream",
     "text": [
      "['Rolf', 'Anne', 'Bob', '3']\n"
     ]
    }
   ],
   "source": [
    "# uma das grandes vantagens de usar é o fato de poder adicionar ou remover elementos\n",
    "# vamos adicionar\n",
    "friend.append(str(3))\n",
    "print (friend)"
   ]
  },
  {
   "cell_type": "code",
   "execution_count": 12,
   "metadata": {
    "colab": {},
    "colab_type": "code",
    "id": "JZNWZ1wByDGq"
   },
   "outputs": [
    {
     "data": {
      "text/plain": [
       "1"
      ]
     },
     "execution_count": 12,
     "metadata": {},
     "output_type": "execute_result"
    }
   ],
   "source": [
    "# Como localizar algum elemento específico?\n",
    "friend.index('Anne')"
   ]
  },
  {
   "cell_type": "code",
   "execution_count": 13,
   "metadata": {
    "colab": {},
    "colab_type": "code",
    "id": "c2nHW_ElyDGu"
   },
   "outputs": [],
   "source": [
    "# é considerada boa prática fazer listas com apenas um tipo de informação\n",
    "# ou seja, adicionar o número 3 (mesmo que em formato de string) na lista friend, não é considerado uam boa prática"
   ]
  },
  {
   "cell_type": "code",
   "execution_count": 17,
   "metadata": {
    "colab": {},
    "colab_type": "code",
    "id": "Uq68W5hQyDGx",
    "scrolled": true
   },
   "outputs": [
    {
     "name": "stdout",
     "output_type": "stream",
     "text": [
      "['Rolf', 'Anne', 'Bob']\n"
     ]
    }
   ],
   "source": [
    "#vamos remover\n",
    "#friend.remove('3')\n",
    "print (friend)"
   ]
  },
  {
   "cell_type": "code",
   "execution_count": 22,
   "metadata": {
    "colab": {},
    "colab_type": "code",
    "id": "eF3VWckiyDGy"
   },
   "outputs": [
    {
     "name": "stdout",
     "output_type": "stream",
     "text": [
      "[21, 48, 53, 83, 52, 37, 51, 91, 71, 68]\n"
     ]
    },
    {
     "data": {
      "text/plain": [
       "575"
      ]
     },
     "execution_count": 22,
     "metadata": {},
     "output_type": "execute_result"
    }
   ],
   "source": [
    "#vamos trabalhar com uma lista de números agora\n",
    "import random\n",
    "lista_teste = random.sample(range(1, 100), 10)\n",
    "print(lista_teste)\n",
    "sum(lista_teste)"
   ]
  },
  {
   "cell_type": "code",
   "execution_count": 19,
   "metadata": {
    "colab": {},
    "colab_type": "code",
    "id": "k_SEEVhayDG0"
   },
   "outputs": [
    {
     "data": {
      "text/plain": [
       "10"
      ]
     },
     "execution_count": 19,
     "metadata": {},
     "output_type": "execute_result"
    }
   ],
   "source": [
    "len(lista_teste)"
   ]
  },
  {
   "cell_type": "markdown",
   "metadata": {
    "colab_type": "text",
    "id": "YC0vQBkfyDG4"
   },
   "source": [
    "### Que tal adiconarmos uma coisa diferente, chamada 'for loop'!!"
   ]
  },
  {
   "cell_type": "code",
   "execution_count": 23,
   "metadata": {
    "colab": {},
    "colab_type": "code",
    "id": "dW0WeCnyyDG5"
   },
   "outputs": [
    {
     "name": "stdout",
     "output_type": "stream",
     "text": [
      "Rolf\n",
      "Anne\n",
      "Bob\n"
     ]
    }
   ],
   "source": [
    "for i in range (0, len(friend)):\n",
    "    print (friend[i])"
   ]
  },
  {
   "cell_type": "code",
   "execution_count": 1,
   "metadata": {
    "colab": {},
    "colab_type": "code",
    "id": "yD2n2syDyDG7",
    "scrolled": false
   },
   "outputs": [
    {
     "ename": "NameError",
     "evalue": "name 'ppe' is not defined",
     "output_type": "error",
     "traceback": [
      "\u001b[0;31m---------------------------------------------------------------------------\u001b[0m",
      "\u001b[0;31mNameError\u001b[0m                                 Traceback (most recent call last)",
      "\u001b[0;32m<ipython-input-1-43e2d190ebe8>\u001b[0m in \u001b[0;36m<module>\u001b[0;34m\u001b[0m\n\u001b[0;32m----> 1\u001b[0;31m \u001b[0mppe\u001b[0m\u001b[0;34m\u001b[0m\u001b[0;34m\u001b[0m\u001b[0m\n\u001b[0m",
      "\u001b[0;31mNameError\u001b[0m: name 'ppe' is not defined"
     ]
    }
   ],
   "source": [
    "ppe"
   ]
  },
  {
   "cell_type": "code",
   "execution_count": 26,
   "metadata": {
    "colab": {},
    "colab_type": "code",
    "id": "7o9gXdkfyDG8"
   },
   "outputs": [
    {
     "name": "stdout",
     "output_type": "stream",
     "text": [
      "Rolf   12\n",
      "Anne   14\n",
      "Bob   10\n"
     ]
    }
   ],
   "source": [
    "#podemos fazer um loop duplo?\n",
    "idade = [12, 14, 10]\n",
    "\n",
    "for i in range (0, len(friend)):\n",
    "    #for j in range (0, len(idade)):\n",
    "        print (friend[i], ' ', idade[i])"
   ]
  },
  {
   "cell_type": "markdown",
   "metadata": {
    "colab_type": "text",
    "id": "L6yAu8n8yDG-"
   },
   "source": [
    "### Podemos fazer uma lista de listas"
   ]
  },
  {
   "cell_type": "code",
   "execution_count": 27,
   "metadata": {
    "colab": {},
    "colab_type": "code",
    "id": "a2uBHIxeyDG-"
   },
   "outputs": [
    {
     "name": "stdout",
     "output_type": "stream",
     "text": [
      "24\n",
      "Bob\n"
     ]
    }
   ],
   "source": [
    "#\n",
    "friends = [[\"Rolf\", 24], [\"Bob\", 30], [\"Anne\", 27]]\n",
    "print(friends[0][1])  # 24\n",
    "print(friends[1][0])  # Bob\n"
   ]
  },
  {
   "cell_type": "code",
   "execution_count": null,
   "metadata": {
    "colab": {},
    "colab_type": "code",
    "id": "2qtSSj0kyDHB"
   },
   "outputs": [],
   "source": [
    "# tem como remover apenas 'Rolf'?"
   ]
  },
  {
   "cell_type": "code",
   "execution_count": null,
   "metadata": {
    "colab": {},
    "colab_type": "code",
    "id": "ivwr7kCxyDHE"
   },
   "outputs": [],
   "source": [
    "# como faço para adicionar uma nova lista em uma lista de listas?"
   ]
  },
  {
   "cell_type": "markdown",
   "metadata": {
    "colab_type": "text",
    "id": "z2QQF7YGyDHI"
   },
   "source": [
    "### Já ouviu falar em tuples?"
   ]
  },
  {
   "cell_type": "code",
   "execution_count": 28,
   "metadata": {
    "colab": {},
    "colab_type": "code",
    "id": "ICrCqIaVyDHJ"
   },
   "outputs": [],
   "source": [
    "#como definimos taples?\n",
    "# inicialmente o conceito de tuple é muito similar à lista, porém não é possível adicionar ou remover elementos \n",
    "\n",
    "amigos_novos = ('João', 'Lindomar')"
   ]
  },
  {
   "cell_type": "code",
   "execution_count": 29,
   "metadata": {
    "colab": {},
    "colab_type": "code",
    "id": "CLTY4tZGyDHK",
    "scrolled": true
   },
   "outputs": [
    {
     "ename": "AttributeError",
     "evalue": "'tuple' object has no attribute 'remove'",
     "output_type": "error",
     "traceback": [
      "\u001b[0;31m---------------------------------------------------------------------------\u001b[0m",
      "\u001b[0;31mAttributeError\u001b[0m                            Traceback (most recent call last)",
      "\u001b[0;32m<ipython-input-29-2c36195641fb>\u001b[0m in \u001b[0;36m<module>\u001b[0;34m\u001b[0m\n\u001b[1;32m      1\u001b[0m \u001b[0;31m# tenta esse teste aí\u001b[0m\u001b[0;34m\u001b[0m\u001b[0;34m\u001b[0m\u001b[0;34m\u001b[0m\u001b[0m\n\u001b[0;32m----> 2\u001b[0;31m \u001b[0mamigos_novos\u001b[0m\u001b[0;34m.\u001b[0m\u001b[0mremove\u001b[0m\u001b[0;34m(\u001b[0m\u001b[0;34m'João'\u001b[0m\u001b[0;34m)\u001b[0m\u001b[0;34m\u001b[0m\u001b[0;34m\u001b[0m\u001b[0m\n\u001b[0m",
      "\u001b[0;31mAttributeError\u001b[0m: 'tuple' object has no attribute 'remove'"
     ]
    }
   ],
   "source": [
    "# tenta esse teste aí \n",
    "amigos_novos.remove('João')"
   ]
  },
  {
   "cell_type": "code",
   "execution_count": null,
   "metadata": {
    "colab": {},
    "colab_type": "code",
    "id": "_Wo5my2uyDHM"
   },
   "outputs": [],
   "source": [
    "#porque trabalhamos com tuples?"
   ]
  },
  {
   "cell_type": "markdown",
   "metadata": {
    "colab_type": "text",
    "id": "eE92_k6syDHP"
   },
   "source": [
    "## Primeiro desafio do curso!\n",
    "\n",
    "1. Vocês terão 15 minutos para essa tarefa \n",
    "2. Serão dadas duas listas e vocês terão que retornar uma lista com os elementos comuns em ambas listas. \n",
    "3. Na lista final não deve haver elementos repetidos\n",
    "4. As listas são:\n",
    "    1. lista1 = [1, 100, 23, 40, 23, 50, 50, 49, 50]\n",
    "    2. lista2 = [30, 50, 80, 70, 40, 40, 34, 32, 40, 50]"
   ]
  },
  {
   "cell_type": "code",
   "execution_count": 6,
   "metadata": {
    "colab": {},
    "colab_type": "code",
    "id": "y55lsAMVyDHP"
   },
   "outputs": [
    {
     "name": "stdout",
     "output_type": "stream",
     "text": [
      "{40, 50}\n",
      "[40, 50]\n"
     ]
    }
   ],
   "source": [
    "## resposta\n",
    "lista3 = set([])\n",
    "lista1 = [1, 100, 23, 40, 23, 50, 50, 49, 50]\n",
    "lista2 = [30, 50, 80, 70, 40, 40, 34, 32, 40, 50]\n",
    "for item2 in lista2:\n",
    "    for item1 in lista1:\n",
    "        if item2 == item1:\n",
    "            lista3.add(item1)\n",
    "print(lista3)\n",
    "lista0 = list(lista3)\n",
    "print(lista0)\n"
   ]
  },
  {
   "cell_type": "markdown",
   "metadata": {
    "colab_type": "text",
    "id": "_4vLqi7GyDHS"
   },
   "source": [
    "### Hora de falar de sets"
   ]
  },
  {
   "cell_type": "code",
   "execution_count": 30,
   "metadata": {
    "colab": {},
    "colab_type": "code",
    "id": "ilEHp_Y3yDHT"
   },
   "outputs": [
    {
     "name": "stdout",
     "output_type": "stream",
     "text": [
      "{'Marcos', 'Maria', 'Luciana'}\n"
     ]
    }
   ],
   "source": [
    "#como declarar?\n",
    "amigos_mala = {'Maria', 'Luciana'}\n",
    "\n",
    "#adicionar novos elementos\n",
    "amigos_mala.add('Marcos')\n",
    "\n",
    "#também é possível remover elementos\n",
    "\n",
    "#vamos mostrar nosso set\n",
    "print(amigos_mala)"
   ]
  },
  {
   "cell_type": "code",
   "execution_count": 31,
   "metadata": {
    "colab": {},
    "colab_type": "code",
    "id": "4urwaC0ryDHU"
   },
   "outputs": [
    {
     "name": "stdout",
     "output_type": "stream",
     "text": [
      "{'Marcos', 'Maria', 'Luciana'}\n"
     ]
    }
   ],
   "source": [
    "#adicionar novos elementos\n",
    "#a posição do novo elemento é aleatória\n",
    "amigos_mala.add('Marcos')\n",
    "\n",
    "print(amigos_mala)"
   ]
  },
  {
   "cell_type": "code",
   "execution_count": null,
   "metadata": {
    "colab": {},
    "colab_type": "code",
    "id": "5A-bBuidyDHW"
   },
   "outputs": [],
   "source": [
    "## porque trabalhos com set?"
   ]
  },
  {
   "cell_type": "code",
   "execution_count": 32,
   "metadata": {
    "colab": {},
    "colab_type": "code",
    "id": "486QrRLPyDHY"
   },
   "outputs": [],
   "source": [
    "#vamos criar um novo set\n",
    "amigos_DH = {'Luis', 'Marcos', 'Julia', 'Liz'}"
   ]
  },
  {
   "cell_type": "code",
   "execution_count": 33,
   "metadata": {
    "colab": {},
    "colab_type": "code",
    "id": "BhH9lBaVyDHa"
   },
   "outputs": [
    {
     "name": "stdout",
     "output_type": "stream",
     "text": [
      "{'Maria', 'Luciana'}\n"
     ]
    }
   ],
   "source": [
    "mala_mas_nao_DH = amigos_mala.difference(amigos_DH)\n",
    "print (mala_mas_nao_DH)"
   ]
  },
  {
   "cell_type": "code",
   "execution_count": 34,
   "metadata": {
    "colab": {},
    "colab_type": "code",
    "id": "Ggs68t74yDHc"
   },
   "outputs": [
    {
     "data": {
      "text/plain": [
       "{'Julia', 'Liz', 'Luciana', 'Luis', 'Maria'}"
      ]
     },
     "execution_count": 34,
     "metadata": {},
     "output_type": "execute_result"
    }
   ],
   "source": [
    "#Amigos exclusivos em ambs sets\n",
    "nao_esta_ambos = amigos_mala.symmetric_difference(amigos_DH)\n",
    "nao_esta_ambos"
   ]
  },
  {
   "cell_type": "code",
   "execution_count": 35,
   "metadata": {
    "colab": {},
    "colab_type": "code",
    "id": "2TpAJmJ_yDHf"
   },
   "outputs": [
    {
     "data": {
      "text/plain": [
       "{'Marcos'}"
      ]
     },
     "execution_count": 35,
     "metadata": {},
     "output_type": "execute_result"
    }
   ],
   "source": [
    "#intersection\n",
    "interseccao = amigos_mala.intersection(amigos_DH)\n",
    "interseccao"
   ]
  },
  {
   "cell_type": "code",
   "execution_count": 36,
   "metadata": {
    "colab": {},
    "colab_type": "code",
    "id": "BCJKOxX4yDHg"
   },
   "outputs": [
    {
     "data": {
      "text/plain": [
       "{'Julia', 'Liz', 'Luciana', 'Luis', 'Marcos', 'Maria'}"
      ]
     },
     "execution_count": 36,
     "metadata": {},
     "output_type": "execute_result"
    }
   ],
   "source": [
    "#union\n",
    "uniao = amigos_mala.union(amigos_DH)\n",
    "uniao"
   ]
  },
  {
   "cell_type": "code",
   "execution_count": 37,
   "metadata": {
    "colab": {},
    "colab_type": "code",
    "id": "RnckPzfMyDHi"
   },
   "outputs": [
    {
     "data": {
      "text/plain": [
       "{'Julia', 'Liz'}"
      ]
     },
     "execution_count": 37,
     "metadata": {},
     "output_type": "execute_result"
    }
   ],
   "source": [
    "# como a operação de listas podem se beneficiar dessas operações\n",
    "lista=['Julia', 'Liz', 'Luciana', 'Luis', 'Maria', 'Julia', 'Liz', 'Luciana', 'Luis', 'Maria']\n",
    "lista2=['Julia', 'Liz', 'Luciana2', 'Luis2', 'Maria2']\n",
    "\n",
    "interseccao_list = set(lista).intersection(set(lista2))\n",
    "interseccao_list"
   ]
  },
  {
   "cell_type": "markdown",
   "metadata": {
    "colab_type": "text",
    "id": "8LKDQyyeyDHm"
   },
   "source": [
    "### Não podemos esquecer de dicionário!!"
   ]
  },
  {
   "cell_type": "code",
   "execution_count": 38,
   "metadata": {
    "colab": {},
    "colab_type": "code",
    "id": "smGExJ2MyDHm"
   },
   "outputs": [],
   "source": [
    "#como vamos declarar?\n",
    "friend_ages = {\"Rolf\": 24, \"Adam\": 30, \"Anne\": 27, 'Zé': 24}"
   ]
  },
  {
   "cell_type": "code",
   "execution_count": 40,
   "metadata": {
    "colab": {},
    "colab_type": "code",
    "id": "SPVw4IZEyDHn"
   },
   "outputs": [
    {
     "name": "stdout",
     "output_type": "stream",
     "text": [
      "24\n"
     ]
    }
   ],
   "source": [
    "# como fazemos para buscar valores em um dicionário?\n",
    "print(friend_ages['Zé'])"
   ]
  },
  {
   "cell_type": "code",
   "execution_count": 41,
   "metadata": {
    "colab": {},
    "colab_type": "code",
    "id": "g7LPMXDgyDHp"
   },
   "outputs": [
    {
     "data": {
      "text/plain": [
       "{'Rolf': 24, 'Adam': 30, 'Anne': 27, 'Zé': 24, 'Breno': 33}"
      ]
     },
     "execution_count": 41,
     "metadata": {},
     "output_type": "execute_result"
    }
   ],
   "source": [
    "#como adicionar mais elementos ?\n",
    "friend_ages['Breno'] = 33\n",
    "friend_ages"
   ]
  },
  {
   "cell_type": "code",
   "execution_count": 44,
   "metadata": {
    "colab": {},
    "colab_type": "code",
    "id": "wP7SFJZ_yDHq"
   },
   "outputs": [
    {
     "data": {
      "text/plain": [
       "dict_items([('Rolf', 24), ('Adam', 30), ('Anne', 27), ('Zé', 24), ('Breno', 33)])"
      ]
     },
     "execution_count": 44,
     "metadata": {},
     "output_type": "execute_result"
    }
   ],
   "source": [
    "#comandos que podem ajudar\n",
    "#friend_ages.keys()\n",
    "#friend_ages.values()\n",
    "friend_ages.items()"
   ]
  },
  {
   "cell_type": "code",
   "execution_count": 42,
   "metadata": {
    "colab": {},
    "colab_type": "code",
    "id": "Yw1doPHyyDHs"
   },
   "outputs": [
    {
     "data": {
      "text/plain": [
       "dict_values([24, 30, 27, 24, 33])"
      ]
     },
     "execution_count": 42,
     "metadata": {},
     "output_type": "execute_result"
    }
   ],
   "source": [
    "#vamos selecionar todos os amigos com 24 anos?\n",
    "friend_ages.values()"
   ]
  },
  {
   "cell_type": "code",
   "execution_count": null,
   "metadata": {
    "colab": {},
    "colab_type": "code",
    "id": "ZZgVMLSYyDHv"
   },
   "outputs": [],
   "source": [
    "#key, value = friend_ages.popitem()"
   ]
  },
  {
   "cell_type": "code",
   "execution_count": 45,
   "metadata": {
    "colab": {},
    "colab_type": "code",
    "id": "4Eu4sAoIyDHw"
   },
   "outputs": [
    {
     "data": {
      "text/plain": [
       "dict_items([('Rolf', 24), ('Adam', 30), ('Anne', 27), ('Zé', 24), ('Breno', 33)])"
      ]
     },
     "execution_count": 45,
     "metadata": {},
     "output_type": "execute_result"
    }
   ],
   "source": [
    "friend_ages.items()"
   ]
  },
  {
   "cell_type": "code",
   "execution_count": 46,
   "metadata": {
    "colab": {},
    "colab_type": "code",
    "id": "xFoVdVXPyDHy"
   },
   "outputs": [
    {
     "data": {
      "text/plain": [
       "5"
      ]
     },
     "execution_count": 46,
     "metadata": {},
     "output_type": "execute_result"
    }
   ],
   "source": [
    "len(friend_ages)"
   ]
  },
  {
   "cell_type": "code",
   "execution_count": 47,
   "metadata": {
    "colab": {},
    "colab_type": "code",
    "id": "HbGuE4mDyDHz"
   },
   "outputs": [
    {
     "name": "stdout",
     "output_type": "stream",
     "text": [
      "{'Rolf': 25, 'Adam': 30, 'Anne': 27, 'Zé': 24, 'Breno': 33}\n"
     ]
    }
   ],
   "source": [
    "friend_ages[\"Rolf\"] = 25\n",
    "print(friend_ages)"
   ]
  },
  {
   "cell_type": "code",
   "execution_count": 48,
   "metadata": {
    "colab": {},
    "colab_type": "code",
    "id": "TZnfUB-YyDH1"
   },
   "outputs": [
    {
     "name": "stdout",
     "output_type": "stream",
     "text": [
      "{'Rolf': 25, 'Adam': 30, 'Anne': 27, 'Zé': 24, 'Breno': 33}\n"
     ]
    }
   ],
   "source": [
    "# pademos converter ums lista de tuples em um dicionário, utilizando o comando dict\n",
    "friends = [(\"Rolf\", 24), (\"Adam\", 30), (\"Anne\", 27)]\n",
    "friend_ages1 = dict(friends)\n",
    "print(friend_ages)"
   ]
  },
  {
   "cell_type": "code",
   "execution_count": 49,
   "metadata": {
    "colab": {},
    "colab_type": "code",
    "id": "WKTyK2qhyDH2"
   },
   "outputs": [
    {
     "data": {
      "text/plain": [
       "25"
      ]
     },
     "execution_count": 49,
     "metadata": {},
     "output_type": "execute_result"
    }
   ],
   "source": [
    "friend_ages['Rolf']"
   ]
  },
  {
   "cell_type": "markdown",
   "metadata": {
    "colab_type": "text",
    "id": "P25gvoqvyDH3"
   },
   "source": [
    "### Vamos de mais um exercício?\n",
    "\n",
    "1. Vamos trabalhar com o dicionário friend_ages\n",
    "2. Imprima somente os nomes dos amigos com idade igual ou superior à 25"
   ]
  },
  {
   "cell_type": "markdown",
   "metadata": {
    "colab_type": "text",
    "id": "llPp1ZIdyDH3"
   },
   "source": [
    "### Essa parte é extra para vocês estudarem após a aula"
   ]
  },
  {
   "cell_type": "code",
   "execution_count": null,
   "metadata": {
    "colab": {},
    "colab_type": "code",
    "id": "uEfkL4guyDH4"
   },
   "outputs": [],
   "source": [
    "## Estrutura while e if\n",
    "\n",
    "import random\n",
    "lista_teste = random.sample(range(1, 100), 10)\n",
    "\n",
    "while len(lista_teste) > 5:\n",
    "    print(\"A lista atual é:\", lista_teste)\n",
    "    \n",
    "    user_input = int(input('Digite um número para ser excluído: '))\n",
    "    \n",
    "    if user_input in lista_teste:\n",
    "        lista_teste.remove(user_input)\n",
    "        \n",
    "print(\"Vamos parar por aqui\")"
   ]
  },
  {
   "cell_type": "code",
   "execution_count": null,
   "metadata": {
    "colab": {},
    "colab_type": "code",
    "id": "0z64aBFCyDH6"
   },
   "outputs": [],
   "source": [
    "friends = [(\"Rolf\", 25), (\"Anne\", 37), (\"Charlie\", 31), (\"Bob\", 22)]\n",
    "for name, age in friends:  \n",
    "    print(f\"{name} is {age} years old.\")"
   ]
  },
  {
   "cell_type": "code",
   "execution_count": null,
   "metadata": {
    "colab": {},
    "colab_type": "code",
    "id": "TEKpkw6ByDH8"
   },
   "outputs": [],
   "source": [
    "cars = [\"ok\", \"ok\", \"ok\", \"faulty\", \"ok\", \"ok\"]\n",
    "\n",
    "for status in cars:\n",
    "    if status == \"faulty\":\n",
    "        print(\"Stopping the production line!\")\n",
    "        break\n",
    "\n",
    "    else:\n",
    "        print(\"All cars built successfully. No faulty cars!\")"
   ]
  },
  {
   "cell_type": "code",
   "execution_count": null,
   "metadata": {
    "colab": {},
    "colab_type": "code",
    "id": "wwyFPcnDyDH9"
   },
   "outputs": [],
   "source": []
  }
 ],
 "metadata": {
  "colab": {
   "name": "Primeira_Aula.ipynb",
   "provenance": []
  },
  "kernelspec": {
   "display_name": "Python 3",
   "language": "python",
   "name": "python3"
  },
  "language_info": {
   "codemirror_mode": {
    "name": "ipython",
    "version": 3
   },
   "file_extension": ".py",
   "mimetype": "text/x-python",
   "name": "python",
   "nbconvert_exporter": "python",
   "pygments_lexer": "ipython3",
   "version": "3.8.8"
  }
 },
 "nbformat": 4,
 "nbformat_minor": 4
}
